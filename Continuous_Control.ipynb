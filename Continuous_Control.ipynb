{
 "cells": [
  {
   "cell_type": "markdown",
   "metadata": {},
   "source": [
    "# Continuous Control\n",
    "\n",
    "---\n",
    "\n",
    "In this notebook, you will learn how to use the Unity ML-Agents environment for the second project of the [Deep Reinforcement Learning Nanodegree](https://www.udacity.com/course/deep-reinforcement-learning-nanodegree--nd893) program.\n",
    "\n",
    "### 1. Start the Environment\n",
    "\n",
    "We begin by importing the necessary packages.  If the code cell below returns an error, please revisit the project instructions to double-check that you have installed [Unity ML-Agents](https://github.com/Unity-Technologies/ml-agents/blob/master/docs/Installation.md) and [NumPy](http://www.numpy.org/)."
   ]
  },
  {
   "cell_type": "code",
   "execution_count": 9,
   "metadata": {},
   "outputs": [],
   "source": [
    "import copy\n",
    "import random\n",
    "from collections import OrderedDict, deque, namedtuple\n",
    "\n",
    "import numpy as np\n",
    "import torch\n",
    "import torch.nn as nn\n",
    "import torch.nn.functional as F\n",
    "import torch.optim as optim\n",
    "from unityagents import UnityEnvironment"
   ]
  },
  {
   "cell_type": "markdown",
   "metadata": {},
   "source": [
    "Next, we will start the environment!  **_Before running the code cell below_**, change the `file_name` parameter to match the location of the Unity environment that you downloaded.\n",
    "\n",
    "- **Mac**: `\"path/to/Reacher.app\"`\n",
    "- **Windows** (x86): `\"path/to/Reacher_Windows_x86/Reacher.exe\"`\n",
    "- **Windows** (x86_64): `\"path/to/Reacher_Windows_x86_64/Reacher.exe\"`\n",
    "- **Linux** (x86): `\"path/to/Reacher_Linux/Reacher.x86\"`\n",
    "- **Linux** (x86_64): `\"path/to/Reacher_Linux/Reacher.x86_64\"`\n",
    "- **Linux** (x86, headless): `\"path/to/Reacher_Linux_NoVis/Reacher.x86\"`\n",
    "- **Linux** (x86_64, headless): `\"path/to/Reacher_Linux_NoVis/Reacher.x86_64\"`\n",
    "\n",
    "For instance, if you are using a Mac, then you downloaded `Reacher.app`.  If this file is in the same folder as the notebook, then the line below should appear as follows:\n",
    "```\n",
    "env = UnityEnvironment(file_name=\"Reacher.app\")\n",
    "```"
   ]
  },
  {
   "cell_type": "code",
   "execution_count": 3,
   "metadata": {},
   "outputs": [
    {
     "name": "stderr",
     "output_type": "stream",
     "text": [
      "INFO:unityagents:\n",
      "'Academy' started successfully!\n",
      "Unity Academy name: Academy\n",
      "        Number of Brains: 1\n",
      "        Number of External Brains : 1\n",
      "        Lesson number : 0\n",
      "        Reset Parameters :\n",
      "\t\tgoal_speed -> 1.0\n",
      "\t\tgoal_size -> 5.0\n",
      "Unity brain name: ReacherBrain\n",
      "        Number of Visual Observations (per agent): 0\n",
      "        Vector Observation space type: continuous\n",
      "        Vector Observation space size (per agent): 33\n",
      "        Number of stacked Vector Observation: 1\n",
      "        Vector Action space type: continuous\n",
      "        Vector Action space size (per agent): 4\n",
      "        Vector Action descriptions: , , , \n"
     ]
    }
   ],
   "source": [
    "env = UnityEnvironment(file_name=\"./Reacher_Linux/Reacher.x86_64\")"
   ]
  },
  {
   "cell_type": "markdown",
   "metadata": {},
   "source": [
    "Environments contain **_brains_** which are responsible for deciding the actions of their associated agents. Here we check for the first brain available, and set it as the default brain we will be controlling from Python."
   ]
  },
  {
   "cell_type": "code",
   "execution_count": 4,
   "metadata": {},
   "outputs": [],
   "source": [
    "# get the default brain\n",
    "brain_name = env.brain_names[0]\n",
    "brain = env.brains[brain_name]"
   ]
  },
  {
   "cell_type": "markdown",
   "metadata": {},
   "source": [
    "### 2. Examine the State and Action Spaces\n",
    "\n",
    "In this environment, a double-jointed arm can move to target locations. A reward of `+0.1` is provided for each step that the agent's hand is in the goal location. Thus, the goal of your agent is to maintain its position at the target location for as many time steps as possible.\n",
    "\n",
    "The observation space consists of `33` variables corresponding to position, rotation, velocity, and angular velocities of the arm.  Each action is a vector with four numbers, corresponding to torque applicable to two joints.  Every entry in the action vector must be a number between `-1` and `1`.\n",
    "\n",
    "Run the code cell below to print some information about the environment."
   ]
  },
  {
   "cell_type": "code",
   "execution_count": 5,
   "metadata": {},
   "outputs": [
    {
     "name": "stdout",
     "output_type": "stream",
     "text": [
      "Number of agents: 20\n",
      "Size of each action: 4\n",
      "There are 20 agents. Each observes a state with length: 33\n",
      "The state for the first agent looks like: [ 0.00000000e+00 -4.00000000e+00  0.00000000e+00  1.00000000e+00\n",
      " -0.00000000e+00 -0.00000000e+00 -4.37113883e-08  0.00000000e+00\n",
      "  0.00000000e+00  0.00000000e+00  0.00000000e+00  0.00000000e+00\n",
      "  0.00000000e+00  0.00000000e+00 -1.00000000e+01  0.00000000e+00\n",
      "  1.00000000e+00 -0.00000000e+00 -0.00000000e+00 -4.37113883e-08\n",
      "  0.00000000e+00  0.00000000e+00  0.00000000e+00  0.00000000e+00\n",
      "  0.00000000e+00  0.00000000e+00  5.75471878e+00 -1.00000000e+00\n",
      "  5.55726624e+00  0.00000000e+00  1.00000000e+00  0.00000000e+00\n",
      " -1.68164849e-01]\n"
     ]
    }
   ],
   "source": [
    "# reset the environment\n",
    "env_info = env.reset(train_mode=True)[brain_name]\n",
    "\n",
    "# number of agents\n",
    "num_agents = len(env_info.agents)\n",
    "print(\"Number of agents:\", num_agents)\n",
    "\n",
    "# size of each action\n",
    "action_size = brain.vector_action_space_size\n",
    "print(\"Size of each action:\", action_size)\n",
    "\n",
    "# examine the state space\n",
    "states = env_info.vector_observations\n",
    "state_size = states.shape[1]\n",
    "print(\n",
    "    \"There are {} agents. Each observes a state with length: {}\".format(\n",
    "        states.shape[0], state_size\n",
    "    )\n",
    ")\n",
    "print(\"The state for the first agent looks like:\", states[0])"
   ]
  },
  {
   "cell_type": "markdown",
   "metadata": {},
   "source": [
    "### 3. Take Random Actions in the Environment\n",
    "\n",
    "In the next code cell, you will learn how to use the Python API to control the agent and receive feedback from the environment.\n",
    "\n",
    "Once this cell is executed, you will watch the agent's performance, if it selects an action at random with each time step.  A window should pop up that allows you to observe the agent, as it moves through the environment.  \n",
    "\n",
    "Of course, as part of the project, you'll have to change the code so that the agent is able to use its experience to gradually choose better actions when interacting with the environment!"
   ]
  },
  {
   "cell_type": "code",
   "execution_count": 6,
   "metadata": {},
   "outputs": [
    {
     "name": "stdout",
     "output_type": "stream",
     "text": [
      "Total score (averaged over agents) this episode: 0.15049999663606287\n"
     ]
    }
   ],
   "source": [
    "env_info = env.reset(train_mode=False)[brain_name]  # reset the environment\n",
    "states = env_info.vector_observations  # get the current state (for each agent)\n",
    "scores = np.zeros(num_agents)  # initialize the score (for each agent)\n",
    "while True:\n",
    "    actions = np.random.randn(\n",
    "        num_agents, action_size\n",
    "    )  # select an action (for each agent)\n",
    "    actions = np.clip(actions, -1, 1)  # all actions between -1 and 1\n",
    "    env_info = env.step(actions)[brain_name]  # send all actions to tne environment\n",
    "    next_states = env_info.vector_observations  # get next state (for each agent)\n",
    "    rewards = env_info.rewards  # get reward (for each agent)\n",
    "    dones = env_info.local_done  # see if episode finished\n",
    "    scores += env_info.rewards  # update the score (for each agent)\n",
    "    states = next_states  # roll over states to next time step\n",
    "    if np.any(dones):  # exit loop if episode finished\n",
    "        break\n",
    "print(\"Total score (averaged over agents) this episode: {}\".format(np.mean(scores)))"
   ]
  },
  {
   "cell_type": "markdown",
   "metadata": {},
   "source": [
    "When finished, you can close the environment."
   ]
  },
  {
   "cell_type": "code",
   "execution_count": null,
   "metadata": {},
   "outputs": [],
   "source": [
    "def _reset_parameters(layers):\n",
    "    for layer in layers:\n",
    "        layer.weight.data.uniform_(-3e-3, 3e-3)\n",
    "\n",
    "\n",
    "class Actor(nn.Module):\n",
    "    \"\"\"Actor (Policy) Model.\"\"\"\n",
    "\n",
    "    def __init__(self, state_size, action_size, seed, fc_layers=[128, 128]):\n",
    "        \"\"\"Initialize parameters and build model.\n",
    "        Params\n",
    "        ======\n",
    "            state_size (int): Dimension of each state\n",
    "            action_size (int): Dimension of each action\n",
    "            seed (int): Random seed\n",
    "            fc_layers (list): Number of nodes in hidden layers\n",
    "        \"\"\"\n",
    "        super(Actor, self).__init__()\n",
    "        self.seed = torch.manual_seed(seed)\n",
    "        # Define input and output values for the hidden layers\n",
    "        dims = [state_size] + fc_layers + [action_size]\n",
    "        # Create the hidden layers\n",
    "        self.fc_layers = nn.ModuleList(\n",
    "            [nn.Linear(dim_in, dim_out) for dim_in, dim_out in zip(dims[:-1], dims[1:])]\n",
    "        )\n",
    "        # Initialize the hidden layer weights\n",
    "        _reset_parameters(self.fc_layers)\n",
    "\n",
    "        print(\"Actor network built:\", self.fc_layers)\n",
    "\n",
    "    def forward(self, x):\n",
    "        \"\"\"Build an actor (policy) network that maps states -> actions.\"\"\"\n",
    "        # Pass the input through all the layers apllying ReLU activation, but the last\n",
    "        for layer in self.fc_layers[:-1]:\n",
    "            x = F.relu(layer(x))\n",
    "        # Pass the result through the output layer apllying hyperbolic tangent function\n",
    "        x = torch.tanh(self.fc_layers[-1](x))\n",
    "        # Return the better action for the input state\n",
    "        return x\n",
    "\n",
    "\n",
    "class Critic(nn.Module):\n",
    "    \"\"\"Critic (Value) Model.\"\"\"\n",
    "\n",
    "    def __init__(self, state_size, action_size, seed, fc_layers=[128, 128]):\n",
    "        \"\"\"Initialize parameters and build model.\n",
    "        Params\n",
    "        ======\n",
    "            state_size (int): Dimension of each state\n",
    "            action_size (int): Dimension of each action\n",
    "            seed (int): Random seed\n",
    "            fc_layers (list): Number of nodes in hidden layers\n",
    "        \"\"\"\n",
    "        super(Critic, self).__init__()\n",
    "        self.seed = torch.manual_seed(seed)\n",
    "        # Append the output size to the layers's dimensions\n",
    "        dims = fc_layers + [1]\n",
    "        # Create a list of layers\n",
    "        layers_list = []\n",
    "        layers_list.append(nn.Linear(state_size, dims[0]))\n",
    "        # The second layer receives the the first layer output + action\n",
    "        layers_list.append(nn.Linear(dims[0] + action_size, dims[1]))\n",
    "        # Build the next layers, if that is the case\n",
    "        for dim_in, dim_out in zip(dims[1:-1], dims[2:]):\n",
    "            layers_list.append(nn.Linear(dim_in, dim_out))\n",
    "        # Store the layers as a ModuleList\n",
    "        self.fc_layers = nn.ModuleList(layers_list)\n",
    "        # Initialize the hidden layer weights\n",
    "        _reset_parameters(self.fc_layers)\n",
    "        # Add batch normalization to the first hidden layer\n",
    "        self.bn = nn.BatchNorm1d(dims[0])\n",
    "\n",
    "        print(\"Critic network built:\", self.fc_layers)\n",
    "\n",
    "    def forward(self, state, action):\n",
    "        \"\"\"Build a critic (value) network that maps (state, action) pairs -> Q-values.\"\"\"\n",
    "        # Pass the states into the first layer\n",
    "        x = self.fc_layers[0](state)\n",
    "        x = self.bn(x)\n",
    "        x = F.relu(x)\n",
    "        # Concatenate the first layer output with the action\n",
    "        x = torch.cat((x, action), dim=1)\n",
    "        # Pass the input through all the layers apllying ReLU activation, but the last\n",
    "        for layer in self.fc_layers[1:-1]:\n",
    "            x = F.relu(layer(x))\n",
    "        # Pass the result through the output layer apllying sigmoid activation\n",
    "        x = torch.sigmoid(self.fc_layers[-1](x))\n",
    "        # Return the Q-Value for the input state-action\n",
    "        return x\n",
    "\n",
    "\n",
    "class QNetwork(nn.Module):\n",
    "    def __init__(\n",
    "        self,\n",
    "        state_size: int,\n",
    "        action_size: int,\n",
    "        seed: int = 0,\n",
    "        hidden_layers: list = [64, 64],\n",
    "    ):\n",
    "        super(QNetwork, self).__init__()\n",
    "        self.state_size = state_size\n",
    "        self.action_size = action_size\n",
    "        # self.seed = torch.manual_seed(seed)\n",
    "\n",
    "        layers = OrderedDict()\n",
    "\n",
    "        hidden_layers = [state_size] + hidden_layers + [action_size]\n",
    "\n",
    "        for i, (h_in, h_out) in enumerate(zip(hidden_layers[:-1], hidden_layers[1:])):\n",
    "            layers[f\"fc{i}\"] = nn.Linear(in_features=h_in, out_features=h_out)\n",
    "            layers[f\"relu{i}\"] = nn.ReLU()\n",
    "\n",
    "        layers.popitem()\n",
    "\n",
    "        self.qnetwork = nn.Sequential(layers)\n",
    "\n",
    "    def forward(self, state):\n",
    "        return self.qnetwork(state)"
   ]
  },
  {
   "cell_type": "code",
   "execution_count": null,
   "metadata": {},
   "outputs": [],
   "source": [
    "# env.close()"
   ]
  },
  {
   "cell_type": "markdown",
   "metadata": {},
   "source": [
    "### 4. It's Your Turn!\n",
    "\n",
    "Now it's your turn to train your own agent to solve the environment!  When training the environment, set `train_mode=True`, so that the line for resetting the environment looks like the following:\n",
    "```python\n",
    "env_info = env.reset(train_mode=True)[brain_name]\n",
    "```"
   ]
  }
 ],
 "metadata": {
  "kernelspec": {
   "display_name": "Python 3",
   "language": "python",
   "name": "python3"
  },
  "language_info": {
   "codemirror_mode": {
    "name": "ipython",
    "version": 3
   },
   "file_extension": ".py",
   "mimetype": "text/x-python",
   "name": "python",
   "nbconvert_exporter": "python",
   "pygments_lexer": "ipython3",
   "version": "3.6.15"
  }
 },
 "nbformat": 4,
 "nbformat_minor": 2
}
